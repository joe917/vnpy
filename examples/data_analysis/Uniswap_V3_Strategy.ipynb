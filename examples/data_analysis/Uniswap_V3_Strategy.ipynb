{
 "cells": [
  {
   "cell_type": "code",
   "execution_count": 1,
   "metadata": {},
   "outputs": [],
   "source": [
    "from vnpy.trader.constant import Exchange,Interval\n",
    "from data_analysis import DataAnalysis\n",
    "from datetime import datetime\n",
    "import matplotlib.pyplot as plt\n",
    "import pandas as pd\n",
    "import numpy as np"
   ]
  },
  {
   "cell_type": "code",
   "execution_count": 2,
   "metadata": {},
   "outputs": [
    {
     "data": {
      "text/plain": [
       "datetime.datetime(2021, 6, 15, 0, 0)"
      ]
     },
     "execution_count": 2,
     "metadata": {},
     "output_type": "execute_result"
    }
   ],
   "source": [
    "datetime(2021, 6, 15)"
   ]
  },
  {
   "cell_type": "code",
   "execution_count": 3,
   "metadata": {},
   "outputs": [
    {
     "data": {
      "text/plain": [
       "datetime.datetime(2021, 6, 14, 16, 54, 33, 615800)"
      ]
     },
     "execution_count": 3,
     "metadata": {},
     "output_type": "execute_result"
    }
   ],
   "source": [
    "datetime.now()"
   ]
  },
  {
   "cell_type": "code",
   "execution_count": 4,
   "metadata": {
    "scrolled": true
   },
   "outputs": [
    {
     "name": "stdout",
     "output_type": "stream",
     "text": [
      "2021-06-14 16:54:33.632756\t开始加载历史数据\n",
      "2021-06-14 16:54:38.389895\t历史数据加载完成，数据量：61495\n"
     ]
    }
   ],
   "source": [
    "herramiento = DataAnalysis()\n",
    "herramiento.load_history(    \n",
    "    symbol=\"ethusdt\", \n",
    "    exchange=Exchange.BINANCE, \n",
    "    interval=Interval.MINUTE, \n",
    "    start=datetime(2021, 5, 3), \n",
    "    end=datetime.now(),\n",
    "    rate = 8/10000,\n",
    "    index_3to1 = [\"ATR\",\"CCI\"],\n",
    "    index_1to1 = [\"STDDEV\",\"SMA\"],\n",
    "    index_2to2 = [\"AROON\"],\n",
    "    index_2to1 = [\"AROONOSC\"],\n",
    "    index_4to1 = [\"BOP\"],\n",
    "    window_index=30,\n",
    ")"
   ]
  },
  {
   "cell_type": "code",
   "execution_count": 5,
   "metadata": {},
   "outputs": [
    {
     "data": {
      "text/html": [
       "<div>\n",
       "<style scoped>\n",
       "    .dataframe tbody tr th:only-of-type {\n",
       "        vertical-align: middle;\n",
       "    }\n",
       "\n",
       "    .dataframe tbody tr th {\n",
       "        vertical-align: top;\n",
       "    }\n",
       "\n",
       "    .dataframe thead th {\n",
       "        text-align: right;\n",
       "    }\n",
       "</style>\n",
       "<table border=\"1\" class=\"dataframe\">\n",
       "  <thead>\n",
       "    <tr style=\"text-align: right;\">\n",
       "      <th></th>\n",
       "      <th>open</th>\n",
       "      <th>high</th>\n",
       "      <th>low</th>\n",
       "      <th>close</th>\n",
       "      <th>volume</th>\n",
       "    </tr>\n",
       "  </thead>\n",
       "  <tbody>\n",
       "    <tr>\n",
       "      <th>2021-05-03 00:00:00+08:00</th>\n",
       "      <td>2929.14</td>\n",
       "      <td>2937.27</td>\n",
       "      <td>2929.14</td>\n",
       "      <td>2936.33</td>\n",
       "      <td>782.78806</td>\n",
       "    </tr>\n",
       "    <tr>\n",
       "      <th>2021-05-03 00:01:00+08:00</th>\n",
       "      <td>2936.33</td>\n",
       "      <td>2937.62</td>\n",
       "      <td>2933.79</td>\n",
       "      <td>2934.00</td>\n",
       "      <td>799.98135</td>\n",
       "    </tr>\n",
       "    <tr>\n",
       "      <th>2021-05-03 00:02:00+08:00</th>\n",
       "      <td>2934.28</td>\n",
       "      <td>2934.50</td>\n",
       "      <td>2927.00</td>\n",
       "      <td>2928.33</td>\n",
       "      <td>308.29920</td>\n",
       "    </tr>\n",
       "    <tr>\n",
       "      <th>2021-05-03 00:03:00+08:00</th>\n",
       "      <td>2928.32</td>\n",
       "      <td>2928.94</td>\n",
       "      <td>2925.00</td>\n",
       "      <td>2925.18</td>\n",
       "      <td>404.87646</td>\n",
       "    </tr>\n",
       "    <tr>\n",
       "      <th>2021-05-03 00:04:00+08:00</th>\n",
       "      <td>2925.26</td>\n",
       "      <td>2926.84</td>\n",
       "      <td>2924.13</td>\n",
       "      <td>2924.83</td>\n",
       "      <td>320.95382</td>\n",
       "    </tr>\n",
       "    <tr>\n",
       "      <th>...</th>\n",
       "      <td>...</td>\n",
       "      <td>...</td>\n",
       "      <td>...</td>\n",
       "      <td>...</td>\n",
       "      <td>...</td>\n",
       "    </tr>\n",
       "    <tr>\n",
       "      <th>2021-06-14 16:50:00+08:00</th>\n",
       "      <td>2473.23</td>\n",
       "      <td>2477.47</td>\n",
       "      <td>2473.22</td>\n",
       "      <td>2476.81</td>\n",
       "      <td>545.61010</td>\n",
       "    </tr>\n",
       "    <tr>\n",
       "      <th>2021-06-14 16:51:00+08:00</th>\n",
       "      <td>2476.70</td>\n",
       "      <td>2478.09</td>\n",
       "      <td>2475.72</td>\n",
       "      <td>2476.87</td>\n",
       "      <td>372.65066</td>\n",
       "    </tr>\n",
       "    <tr>\n",
       "      <th>2021-06-14 16:52:00+08:00</th>\n",
       "      <td>2476.92</td>\n",
       "      <td>2476.96</td>\n",
       "      <td>2472.75</td>\n",
       "      <td>2476.13</td>\n",
       "      <td>339.54627</td>\n",
       "    </tr>\n",
       "    <tr>\n",
       "      <th>2021-06-14 16:53:00+08:00</th>\n",
       "      <td>2476.13</td>\n",
       "      <td>2477.77</td>\n",
       "      <td>2473.70</td>\n",
       "      <td>2477.21</td>\n",
       "      <td>351.33906</td>\n",
       "    </tr>\n",
       "    <tr>\n",
       "      <th>2021-06-14 16:54:00+08:00</th>\n",
       "      <td>2477.21</td>\n",
       "      <td>2477.22</td>\n",
       "      <td>2475.43</td>\n",
       "      <td>2476.08</td>\n",
       "      <td>51.62346</td>\n",
       "    </tr>\n",
       "  </tbody>\n",
       "</table>\n",
       "<p>61495 rows × 5 columns</p>\n",
       "</div>"
      ],
      "text/plain": [
       "                              open     high      low    close     volume\n",
       "2021-05-03 00:00:00+08:00  2929.14  2937.27  2929.14  2936.33  782.78806\n",
       "2021-05-03 00:01:00+08:00  2936.33  2937.62  2933.79  2934.00  799.98135\n",
       "2021-05-03 00:02:00+08:00  2934.28  2934.50  2927.00  2928.33  308.29920\n",
       "2021-05-03 00:03:00+08:00  2928.32  2928.94  2925.00  2925.18  404.87646\n",
       "2021-05-03 00:04:00+08:00  2925.26  2926.84  2924.13  2924.83  320.95382\n",
       "...                            ...      ...      ...      ...        ...\n",
       "2021-06-14 16:50:00+08:00  2473.23  2477.47  2473.22  2476.81  545.61010\n",
       "2021-06-14 16:51:00+08:00  2476.70  2478.09  2475.72  2476.87  372.65066\n",
       "2021-06-14 16:52:00+08:00  2476.92  2476.96  2472.75  2476.13  339.54627\n",
       "2021-06-14 16:53:00+08:00  2476.13  2477.77  2473.70  2477.21  351.33906\n",
       "2021-06-14 16:54:00+08:00  2477.21  2477.22  2475.43  2476.08   51.62346\n",
       "\n",
       "[61495 rows x 5 columns]"
      ]
     },
     "execution_count": 5,
     "metadata": {},
     "output_type": "execute_result"
    }
   ],
   "source": [
    "herramiento.orignal"
   ]
  },
  {
   "cell_type": "code",
   "execution_count": 6,
   "metadata": {},
   "outputs": [
    {
     "data": {
      "text/html": [
       "<div>\n",
       "<style scoped>\n",
       "    .dataframe tbody tr th:only-of-type {\n",
       "        vertical-align: middle;\n",
       "    }\n",
       "\n",
       "    .dataframe tbody tr th {\n",
       "        vertical-align: top;\n",
       "    }\n",
       "\n",
       "    .dataframe thead th {\n",
       "        text-align: right;\n",
       "    }\n",
       "</style>\n",
       "<table border=\"1\" class=\"dataframe\">\n",
       "  <thead>\n",
       "    <tr style=\"text-align: right;\">\n",
       "      <th></th>\n",
       "      <th>open</th>\n",
       "      <th>high</th>\n",
       "      <th>low</th>\n",
       "      <th>close</th>\n",
       "      <th>volume</th>\n",
       "    </tr>\n",
       "  </thead>\n",
       "  <tbody>\n",
       "    <tr>\n",
       "      <th>2021-05-03 00:00:00+08:00</th>\n",
       "      <td>2929.14</td>\n",
       "      <td>2937.27</td>\n",
       "      <td>2929.14</td>\n",
       "      <td>2936.33</td>\n",
       "      <td>782.78806</td>\n",
       "    </tr>\n",
       "    <tr>\n",
       "      <th>2021-05-03 00:01:00+08:00</th>\n",
       "      <td>2936.33</td>\n",
       "      <td>2937.62</td>\n",
       "      <td>2933.79</td>\n",
       "      <td>2934.00</td>\n",
       "      <td>799.98135</td>\n",
       "    </tr>\n",
       "    <tr>\n",
       "      <th>2021-05-03 00:02:00+08:00</th>\n",
       "      <td>2934.28</td>\n",
       "      <td>2934.50</td>\n",
       "      <td>2927.00</td>\n",
       "      <td>2928.33</td>\n",
       "      <td>308.29920</td>\n",
       "    </tr>\n",
       "    <tr>\n",
       "      <th>2021-05-03 00:03:00+08:00</th>\n",
       "      <td>2928.32</td>\n",
       "      <td>2928.94</td>\n",
       "      <td>2925.00</td>\n",
       "      <td>2925.18</td>\n",
       "      <td>404.87646</td>\n",
       "    </tr>\n",
       "    <tr>\n",
       "      <th>2021-05-03 00:04:00+08:00</th>\n",
       "      <td>2925.26</td>\n",
       "      <td>2926.84</td>\n",
       "      <td>2924.13</td>\n",
       "      <td>2924.83</td>\n",
       "      <td>320.95382</td>\n",
       "    </tr>\n",
       "  </tbody>\n",
       "</table>\n",
       "</div>"
      ],
      "text/plain": [
       "                              open     high      low    close     volume\n",
       "2021-05-03 00:00:00+08:00  2929.14  2937.27  2929.14  2936.33  782.78806\n",
       "2021-05-03 00:01:00+08:00  2936.33  2937.62  2933.79  2934.00  799.98135\n",
       "2021-05-03 00:02:00+08:00  2934.28  2934.50  2927.00  2928.33  308.29920\n",
       "2021-05-03 00:03:00+08:00  2928.32  2928.94  2925.00  2925.18  404.87646\n",
       "2021-05-03 00:04:00+08:00  2925.26  2926.84  2924.13  2924.83  320.95382"
      ]
     },
     "execution_count": 6,
     "metadata": {},
     "output_type": "execute_result"
    }
   ],
   "source": [
    "df = herramiento.orignal\n",
    "df.head()"
   ]
  },
  {
   "cell_type": "code",
   "execution_count": 7,
   "metadata": {},
   "outputs": [
    {
     "data": {
      "text/html": [
       "<div>\n",
       "<style scoped>\n",
       "    .dataframe tbody tr th:only-of-type {\n",
       "        vertical-align: middle;\n",
       "    }\n",
       "\n",
       "    .dataframe tbody tr th {\n",
       "        vertical-align: top;\n",
       "    }\n",
       "\n",
       "    .dataframe thead th {\n",
       "        text-align: right;\n",
       "    }\n",
       "</style>\n",
       "<table border=\"1\" class=\"dataframe\">\n",
       "  <thead>\n",
       "    <tr style=\"text-align: right;\">\n",
       "      <th></th>\n",
       "      <th>open</th>\n",
       "      <th>high</th>\n",
       "      <th>low</th>\n",
       "      <th>close</th>\n",
       "      <th>volume</th>\n",
       "    </tr>\n",
       "  </thead>\n",
       "  <tbody>\n",
       "    <tr>\n",
       "      <th>2021-06-14 16:50:00+08:00</th>\n",
       "      <td>2473.23</td>\n",
       "      <td>2477.47</td>\n",
       "      <td>2473.22</td>\n",
       "      <td>2476.81</td>\n",
       "      <td>545.61010</td>\n",
       "    </tr>\n",
       "    <tr>\n",
       "      <th>2021-06-14 16:51:00+08:00</th>\n",
       "      <td>2476.70</td>\n",
       "      <td>2478.09</td>\n",
       "      <td>2475.72</td>\n",
       "      <td>2476.87</td>\n",
       "      <td>372.65066</td>\n",
       "    </tr>\n",
       "    <tr>\n",
       "      <th>2021-06-14 16:52:00+08:00</th>\n",
       "      <td>2476.92</td>\n",
       "      <td>2476.96</td>\n",
       "      <td>2472.75</td>\n",
       "      <td>2476.13</td>\n",
       "      <td>339.54627</td>\n",
       "    </tr>\n",
       "    <tr>\n",
       "      <th>2021-06-14 16:53:00+08:00</th>\n",
       "      <td>2476.13</td>\n",
       "      <td>2477.77</td>\n",
       "      <td>2473.70</td>\n",
       "      <td>2477.21</td>\n",
       "      <td>351.33906</td>\n",
       "    </tr>\n",
       "    <tr>\n",
       "      <th>2021-06-14 16:54:00+08:00</th>\n",
       "      <td>2477.21</td>\n",
       "      <td>2477.22</td>\n",
       "      <td>2475.43</td>\n",
       "      <td>2476.08</td>\n",
       "      <td>51.62346</td>\n",
       "    </tr>\n",
       "  </tbody>\n",
       "</table>\n",
       "</div>"
      ],
      "text/plain": [
       "                              open     high      low    close     volume\n",
       "2021-06-14 16:50:00+08:00  2473.23  2477.47  2473.22  2476.81  545.61010\n",
       "2021-06-14 16:51:00+08:00  2476.70  2478.09  2475.72  2476.87  372.65066\n",
       "2021-06-14 16:52:00+08:00  2476.92  2476.96  2472.75  2476.13  339.54627\n",
       "2021-06-14 16:53:00+08:00  2476.13  2477.77  2473.70  2477.21  351.33906\n",
       "2021-06-14 16:54:00+08:00  2477.21  2477.22  2475.43  2476.08   51.62346"
      ]
     },
     "execution_count": 7,
     "metadata": {},
     "output_type": "execute_result"
    }
   ],
   "source": [
    "df.tail()"
   ]
  },
  {
   "cell_type": "markdown",
   "metadata": {},
   "source": [
    "#### 合成半小时K线数据\n",
    "data30 = pd.DataFrame()\n",
    "interval='30T'\n",
    "data30[\"open\"] = df[\"open\"].resample(interval).first()\n",
    "data30[\"high\"] = df[\"high\"].resample(interval).max()\n",
    "data30[\"low\"] = df[\"low\"].resample(interval).min()\n",
    "data30[\"close\"] = df[\"close\"].resample(interval).last()\n",
    "data30[\"volume\"] = df[\"volume\"].resample(interval).sum()"
   ]
  },
  {
   "cell_type": "code",
   "execution_count": null,
   "metadata": {},
   "outputs": [],
   "source": []
  },
  {
   "cell_type": "markdown",
   "metadata": {},
   "source": [
    "参数配置"
   ]
  },
  {
   "cell_type": "code",
   "execution_count": 8,
   "metadata": {},
   "outputs": [],
   "source": [
    "#标准差\n",
    "STD = 0.25\n",
    "\n",
    "#滑动窗口小时数\n",
    "rolling_hours_window = 2\n",
    "\n",
    "# 套利摩擦\n",
    "arb_fri = 0.006\n",
    "\n",
    "# 千三池 0.006， 万五池 0.001\n",
    "bar_len = 0.001\n",
    "\n"
   ]
  },
  {
   "cell_type": "code",
   "execution_count": 9,
   "metadata": {},
   "outputs": [],
   "source": [
    "len_data = len(df[\"close\"])"
   ]
  },
  {
   "cell_type": "code",
   "execution_count": 10,
   "metadata": {},
   "outputs": [
    {
     "data": {
      "text/plain": [
       "61495"
      ]
     },
     "execution_count": 10,
     "metadata": {},
     "output_type": "execute_result"
    }
   ],
   "source": [
    "len_data"
   ]
  },
  {
   "cell_type": "code",
   "execution_count": 11,
   "metadata": {},
   "outputs": [
    {
     "data": {
      "text/plain": [
       "open      2929.14000\n",
       "high      2937.27000\n",
       "low       2929.14000\n",
       "close     2936.33000\n",
       "volume     782.78806\n",
       "Name: 2021-05-03 00:00:00+08:00, dtype: float64"
      ]
     },
     "execution_count": 11,
     "metadata": {},
     "output_type": "execute_result"
    }
   ],
   "source": [
    "df.iloc[0]"
   ]
  },
  {
   "cell_type": "code",
   "execution_count": 12,
   "metadata": {},
   "outputs": [],
   "source": [
    "df[\"pre_close\"] = df[\"close\"].shift(1).fillna(0)"
   ]
  },
  {
   "cell_type": "code",
   "execution_count": 13,
   "metadata": {},
   "outputs": [],
   "source": [
    "df['log_return'] = np.log(df['close']/df['pre_close'])"
   ]
  },
  {
   "cell_type": "code",
   "execution_count": 14,
   "metadata": {},
   "outputs": [
    {
     "data": {
      "text/plain": [
       "2021-05-03 00:00:00+08:00         NaN\n",
       "2021-05-03 00:01:00+08:00         NaN\n",
       "2021-05-03 00:02:00+08:00         NaN\n",
       "2021-05-03 00:03:00+08:00         NaN\n",
       "2021-05-03 00:04:00+08:00         NaN\n",
       "                               ...   \n",
       "2021-06-14 16:50:00+08:00    0.000844\n",
       "2021-06-14 16:51:00+08:00    0.000844\n",
       "2021-06-14 16:52:00+08:00    0.000836\n",
       "2021-06-14 16:53:00+08:00    0.000841\n",
       "2021-06-14 16:54:00+08:00    0.000841\n",
       "Name: log_return, Length: 61495, dtype: float64"
      ]
     },
     "execution_count": 14,
     "metadata": {},
     "output_type": "execute_result"
    }
   ],
   "source": [
    "df['log_return'].rolling(30).std()"
   ]
  },
  {
   "cell_type": "code",
   "execution_count": 15,
   "metadata": {},
   "outputs": [],
   "source": [
    "df['rolling_sigma'] = df['log_return'].rolling(rolling_hours_window*60).std()\n",
    "df['daily_sigma'] = df['rolling_sigma']*np.sqrt(1440)"
   ]
  },
  {
   "cell_type": "code",
   "execution_count": 16,
   "metadata": {},
   "outputs": [
    {
     "data": {
      "text/html": [
       "<div>\n",
       "<style scoped>\n",
       "    .dataframe tbody tr th:only-of-type {\n",
       "        vertical-align: middle;\n",
       "    }\n",
       "\n",
       "    .dataframe tbody tr th {\n",
       "        vertical-align: top;\n",
       "    }\n",
       "\n",
       "    .dataframe thead th {\n",
       "        text-align: right;\n",
       "    }\n",
       "</style>\n",
       "<table border=\"1\" class=\"dataframe\">\n",
       "  <thead>\n",
       "    <tr style=\"text-align: right;\">\n",
       "      <th></th>\n",
       "      <th>open</th>\n",
       "      <th>high</th>\n",
       "      <th>low</th>\n",
       "      <th>close</th>\n",
       "      <th>volume</th>\n",
       "      <th>pre_close</th>\n",
       "      <th>log_return</th>\n",
       "      <th>rolling_sigma</th>\n",
       "      <th>daily_sigma</th>\n",
       "    </tr>\n",
       "  </thead>\n",
       "  <tbody>\n",
       "    <tr>\n",
       "      <th>2021-05-03 01:59:00+08:00</th>\n",
       "      <td>2934.03</td>\n",
       "      <td>2934.15</td>\n",
       "      <td>2932.67</td>\n",
       "      <td>2933.16</td>\n",
       "      <td>159.57674</td>\n",
       "      <td>2934.04</td>\n",
       "      <td>-0.000300</td>\n",
       "      <td>NaN</td>\n",
       "      <td>NaN</td>\n",
       "    </tr>\n",
       "    <tr>\n",
       "      <th>2021-05-03 02:00:00+08:00</th>\n",
       "      <td>2933.17</td>\n",
       "      <td>2934.76</td>\n",
       "      <td>2933.16</td>\n",
       "      <td>2934.16</td>\n",
       "      <td>166.72626</td>\n",
       "      <td>2933.16</td>\n",
       "      <td>0.000341</td>\n",
       "      <td>0.000657</td>\n",
       "      <td>0.024925</td>\n",
       "    </tr>\n",
       "    <tr>\n",
       "      <th>2021-05-03 02:01:00+08:00</th>\n",
       "      <td>2934.16</td>\n",
       "      <td>2934.17</td>\n",
       "      <td>2932.67</td>\n",
       "      <td>2933.50</td>\n",
       "      <td>131.26980</td>\n",
       "      <td>2934.16</td>\n",
       "      <td>-0.000225</td>\n",
       "      <td>0.000653</td>\n",
       "      <td>0.024785</td>\n",
       "    </tr>\n",
       "    <tr>\n",
       "      <th>2021-05-03 02:02:00+08:00</th>\n",
       "      <td>2933.51</td>\n",
       "      <td>2934.70</td>\n",
       "      <td>2932.02</td>\n",
       "      <td>2932.12</td>\n",
       "      <td>201.46676</td>\n",
       "      <td>2933.50</td>\n",
       "      <td>-0.000471</td>\n",
       "      <td>0.000630</td>\n",
       "      <td>0.023907</td>\n",
       "    </tr>\n",
       "    <tr>\n",
       "      <th>2021-05-03 02:03:00+08:00</th>\n",
       "      <td>2932.12</td>\n",
       "      <td>2932.12</td>\n",
       "      <td>2930.06</td>\n",
       "      <td>2931.54</td>\n",
       "      <td>180.87564</td>\n",
       "      <td>2932.12</td>\n",
       "      <td>-0.000198</td>\n",
       "      <td>0.000622</td>\n",
       "      <td>0.023616</td>\n",
       "    </tr>\n",
       "    <tr>\n",
       "      <th>2021-05-03 02:04:00+08:00</th>\n",
       "      <td>2931.54</td>\n",
       "      <td>2937.27</td>\n",
       "      <td>2931.54</td>\n",
       "      <td>2937.14</td>\n",
       "      <td>350.06458</td>\n",
       "      <td>2931.54</td>\n",
       "      <td>0.001908</td>\n",
       "      <td>0.000646</td>\n",
       "      <td>0.024501</td>\n",
       "    </tr>\n",
       "  </tbody>\n",
       "</table>\n",
       "</div>"
      ],
      "text/plain": [
       "                              open     high      low    close     volume  \\\n",
       "2021-05-03 01:59:00+08:00  2934.03  2934.15  2932.67  2933.16  159.57674   \n",
       "2021-05-03 02:00:00+08:00  2933.17  2934.76  2933.16  2934.16  166.72626   \n",
       "2021-05-03 02:01:00+08:00  2934.16  2934.17  2932.67  2933.50  131.26980   \n",
       "2021-05-03 02:02:00+08:00  2933.51  2934.70  2932.02  2932.12  201.46676   \n",
       "2021-05-03 02:03:00+08:00  2932.12  2932.12  2930.06  2931.54  180.87564   \n",
       "2021-05-03 02:04:00+08:00  2931.54  2937.27  2931.54  2937.14  350.06458   \n",
       "\n",
       "                           pre_close  log_return  rolling_sigma  daily_sigma  \n",
       "2021-05-03 01:59:00+08:00    2934.04   -0.000300            NaN          NaN  \n",
       "2021-05-03 02:00:00+08:00    2933.16    0.000341       0.000657     0.024925  \n",
       "2021-05-03 02:01:00+08:00    2934.16   -0.000225       0.000653     0.024785  \n",
       "2021-05-03 02:02:00+08:00    2933.50   -0.000471       0.000630     0.023907  \n",
       "2021-05-03 02:03:00+08:00    2932.12   -0.000198       0.000622     0.023616  \n",
       "2021-05-03 02:04:00+08:00    2931.54    0.001908       0.000646     0.024501  "
      ]
     },
     "execution_count": 16,
     "metadata": {},
     "output_type": "execute_result"
    }
   ],
   "source": [
    "df.iloc[119:125]"
   ]
  },
  {
   "cell_type": "code",
   "execution_count": 17,
   "metadata": {},
   "outputs": [],
   "source": [
    "df['up_float'] = np.exp(df['daily_sigma']*STD)\n",
    "df['down_float'] = np.exp(-df['daily_sigma']*STD)"
   ]
  },
  {
   "cell_type": "code",
   "execution_count": 18,
   "metadata": {},
   "outputs": [],
   "source": [
    "df['target_range'] = np.round(np.log(df['up_float'])/np.log(1+bar_len),0)"
   ]
  },
  {
   "cell_type": "code",
   "execution_count": 19,
   "metadata": {},
   "outputs": [
    {
     "data": {
      "text/plain": [
       "237.0"
      ]
     },
     "execution_count": 19,
     "metadata": {},
     "output_type": "execute_result"
    }
   ],
   "source": [
    "df['target_range'].max()"
   ]
  },
  {
   "cell_type": "code",
   "execution_count": 20,
   "metadata": {},
   "outputs": [
    {
     "data": {
      "text/plain": [
       "5.0"
      ]
     },
     "execution_count": 20,
     "metadata": {},
     "output_type": "execute_result"
    }
   ],
   "source": [
    "df['target_range'].min()"
   ]
  },
  {
   "cell_type": "code",
   "execution_count": 21,
   "metadata": {},
   "outputs": [],
   "source": [
    "df.index = df.index.tz_localize(None)"
   ]
  },
  {
   "cell_type": "code",
   "execution_count": 22,
   "metadata": {},
   "outputs": [
    {
     "data": {
      "text/plain": [
       "DatetimeIndex(['2021-05-03 00:00:00', '2021-05-03 00:01:00',\n",
       "               '2021-05-03 00:02:00', '2021-05-03 00:03:00',\n",
       "               '2021-05-03 00:04:00', '2021-05-03 00:05:00',\n",
       "               '2021-05-03 00:06:00', '2021-05-03 00:07:00',\n",
       "               '2021-05-03 00:08:00', '2021-05-03 00:09:00',\n",
       "               ...\n",
       "               '2021-06-14 16:45:00', '2021-06-14 16:46:00',\n",
       "               '2021-06-14 16:47:00', '2021-06-14 16:48:00',\n",
       "               '2021-06-14 16:49:00', '2021-06-14 16:50:00',\n",
       "               '2021-06-14 16:51:00', '2021-06-14 16:52:00',\n",
       "               '2021-06-14 16:53:00', '2021-06-14 16:54:00'],\n",
       "              dtype='datetime64[ns]', length=61495, freq=None)"
      ]
     },
     "execution_count": 22,
     "metadata": {},
     "output_type": "execute_result"
    }
   ],
   "source": [
    "df.index"
   ]
  },
  {
   "cell_type": "code",
   "execution_count": 23,
   "metadata": {},
   "outputs": [
    {
     "data": {
      "text/plain": [
       "DatetimeIndex(['2021-05-03 00:10:00', '2021-05-03 00:11:00'], dtype='datetime64[ns]', freq=None)"
      ]
     },
     "execution_count": 23,
     "metadata": {},
     "output_type": "execute_result"
    }
   ],
   "source": [
    "df.index[10:12]"
   ]
  },
  {
   "cell_type": "code",
   "execution_count": 24,
   "metadata": {},
   "outputs": [],
   "source": [
    "#df.to_excel('test.xlsx')"
   ]
  },
  {
   "cell_type": "code",
   "execution_count": 25,
   "metadata": {},
   "outputs": [],
   "source": [
    "df['close_rolling_30_max'] = df['close'].rolling(30).max()\n",
    "df['close_rolling_30_min'] = df['close'].rolling(30).min()"
   ]
  },
  {
   "cell_type": "code",
   "execution_count": 26,
   "metadata": {},
   "outputs": [],
   "source": [
    "# 初始化\n",
    "start_index = '2021-05-03 02:00:00'\n",
    "df.loc[start_index,'adjust_signal'] = 1\n",
    "df.loc[start_index,'actural_range'] = df.loc[start_index,'target_range']\n",
    "df.loc[start_index,'benchmark_price'] = df.loc[start_index]['pre_close']\n",
    "df.loc[start_index,'a'] = df.loc[start_index]['benchmark_price']*df.loc[start_index]['down_float']*(1-arb_fri)\n",
    "df.loc[start_index,'b'] = df.loc[start_index]['benchmark_price']*df.loc[start_index]['up_float']*(1+arb_fri)\n",
    "a  = df.loc[start_index]['benchmark_price']*df.loc[start_index]['down_float']*(1-arb_fri)\n",
    "b = df.loc[start_index]['benchmark_price']*df.loc[start_index]['up_float']*(1+arb_fri)\n",
    "\n",
    "df_1 = df[start_index:]\n",
    "#df_1['close_rolling_30_max'] = df_1['close'].rolling(30).max()\n",
    "#df_1['close_rolling_30_min'] = df_1['close'].rolling(30).min()\n",
    "data_len = len(df_1)\n",
    "\n",
    "start_index_list=[]"
   ]
  },
  {
   "cell_type": "code",
   "execution_count": 27,
   "metadata": {},
   "outputs": [
    {
     "data": {
      "text/html": [
       "<div>\n",
       "<style scoped>\n",
       "    .dataframe tbody tr th:only-of-type {\n",
       "        vertical-align: middle;\n",
       "    }\n",
       "\n",
       "    .dataframe tbody tr th {\n",
       "        vertical-align: top;\n",
       "    }\n",
       "\n",
       "    .dataframe thead th {\n",
       "        text-align: right;\n",
       "    }\n",
       "</style>\n",
       "<table border=\"1\" class=\"dataframe\">\n",
       "  <thead>\n",
       "    <tr style=\"text-align: right;\">\n",
       "      <th></th>\n",
       "      <th>open</th>\n",
       "      <th>high</th>\n",
       "      <th>low</th>\n",
       "      <th>close</th>\n",
       "      <th>volume</th>\n",
       "      <th>pre_close</th>\n",
       "      <th>log_return</th>\n",
       "      <th>rolling_sigma</th>\n",
       "      <th>daily_sigma</th>\n",
       "      <th>up_float</th>\n",
       "      <th>down_float</th>\n",
       "      <th>target_range</th>\n",
       "      <th>close_rolling_30_max</th>\n",
       "      <th>close_rolling_30_min</th>\n",
       "      <th>adjust_signal</th>\n",
       "      <th>actural_range</th>\n",
       "      <th>benchmark_price</th>\n",
       "      <th>a</th>\n",
       "      <th>b</th>\n",
       "    </tr>\n",
       "  </thead>\n",
       "  <tbody>\n",
       "    <tr>\n",
       "      <th>2021-05-03 02:00:00</th>\n",
       "      <td>2933.17</td>\n",
       "      <td>2934.76</td>\n",
       "      <td>2933.16</td>\n",
       "      <td>2934.16</td>\n",
       "      <td>166.72626</td>\n",
       "      <td>2933.16</td>\n",
       "      <td>0.000341</td>\n",
       "      <td>0.000657</td>\n",
       "      <td>0.024925</td>\n",
       "      <td>1.006251</td>\n",
       "      <td>0.993788</td>\n",
       "      <td>6.0</td>\n",
       "      <td>2934.73</td>\n",
       "      <td>2928.06</td>\n",
       "      <td>1.0</td>\n",
       "      <td>6.0</td>\n",
       "      <td>2933.16</td>\n",
       "      <td>2897.449637</td>\n",
       "      <td>2969.203589</td>\n",
       "    </tr>\n",
       "    <tr>\n",
       "      <th>2021-05-03 02:01:00</th>\n",
       "      <td>2934.16</td>\n",
       "      <td>2934.17</td>\n",
       "      <td>2932.67</td>\n",
       "      <td>2933.50</td>\n",
       "      <td>131.26980</td>\n",
       "      <td>2934.16</td>\n",
       "      <td>-0.000225</td>\n",
       "      <td>0.000653</td>\n",
       "      <td>0.024785</td>\n",
       "      <td>1.006216</td>\n",
       "      <td>0.993823</td>\n",
       "      <td>6.0</td>\n",
       "      <td>2934.73</td>\n",
       "      <td>2928.06</td>\n",
       "      <td>NaN</td>\n",
       "      <td>NaN</td>\n",
       "      <td>NaN</td>\n",
       "      <td>NaN</td>\n",
       "      <td>NaN</td>\n",
       "    </tr>\n",
       "    <tr>\n",
       "      <th>2021-05-03 02:02:00</th>\n",
       "      <td>2933.51</td>\n",
       "      <td>2934.70</td>\n",
       "      <td>2932.02</td>\n",
       "      <td>2932.12</td>\n",
       "      <td>201.46676</td>\n",
       "      <td>2933.50</td>\n",
       "      <td>-0.000471</td>\n",
       "      <td>0.000630</td>\n",
       "      <td>0.023907</td>\n",
       "      <td>1.005995</td>\n",
       "      <td>0.994041</td>\n",
       "      <td>6.0</td>\n",
       "      <td>2934.73</td>\n",
       "      <td>2928.30</td>\n",
       "      <td>NaN</td>\n",
       "      <td>NaN</td>\n",
       "      <td>NaN</td>\n",
       "      <td>NaN</td>\n",
       "      <td>NaN</td>\n",
       "    </tr>\n",
       "    <tr>\n",
       "      <th>2021-05-03 02:03:00</th>\n",
       "      <td>2932.12</td>\n",
       "      <td>2932.12</td>\n",
       "      <td>2930.06</td>\n",
       "      <td>2931.54</td>\n",
       "      <td>180.87564</td>\n",
       "      <td>2932.12</td>\n",
       "      <td>-0.000198</td>\n",
       "      <td>0.000622</td>\n",
       "      <td>0.023616</td>\n",
       "      <td>1.005921</td>\n",
       "      <td>0.994113</td>\n",
       "      <td>6.0</td>\n",
       "      <td>2934.73</td>\n",
       "      <td>2928.62</td>\n",
       "      <td>NaN</td>\n",
       "      <td>NaN</td>\n",
       "      <td>NaN</td>\n",
       "      <td>NaN</td>\n",
       "      <td>NaN</td>\n",
       "    </tr>\n",
       "    <tr>\n",
       "      <th>2021-05-03 02:04:00</th>\n",
       "      <td>2931.54</td>\n",
       "      <td>2937.27</td>\n",
       "      <td>2931.54</td>\n",
       "      <td>2937.14</td>\n",
       "      <td>350.06458</td>\n",
       "      <td>2931.54</td>\n",
       "      <td>0.001908</td>\n",
       "      <td>0.000646</td>\n",
       "      <td>0.024501</td>\n",
       "      <td>1.006144</td>\n",
       "      <td>0.993893</td>\n",
       "      <td>6.0</td>\n",
       "      <td>2937.14</td>\n",
       "      <td>2928.62</td>\n",
       "      <td>NaN</td>\n",
       "      <td>NaN</td>\n",
       "      <td>NaN</td>\n",
       "      <td>NaN</td>\n",
       "      <td>NaN</td>\n",
       "    </tr>\n",
       "    <tr>\n",
       "      <th>...</th>\n",
       "      <td>...</td>\n",
       "      <td>...</td>\n",
       "      <td>...</td>\n",
       "      <td>...</td>\n",
       "      <td>...</td>\n",
       "      <td>...</td>\n",
       "      <td>...</td>\n",
       "      <td>...</td>\n",
       "      <td>...</td>\n",
       "      <td>...</td>\n",
       "      <td>...</td>\n",
       "      <td>...</td>\n",
       "      <td>...</td>\n",
       "      <td>...</td>\n",
       "      <td>...</td>\n",
       "      <td>...</td>\n",
       "      <td>...</td>\n",
       "      <td>...</td>\n",
       "      <td>...</td>\n",
       "    </tr>\n",
       "    <tr>\n",
       "      <th>2021-06-14 16:50:00</th>\n",
       "      <td>2473.23</td>\n",
       "      <td>2477.47</td>\n",
       "      <td>2473.22</td>\n",
       "      <td>2476.81</td>\n",
       "      <td>545.61010</td>\n",
       "      <td>2473.11</td>\n",
       "      <td>0.001495</td>\n",
       "      <td>0.001027</td>\n",
       "      <td>0.038973</td>\n",
       "      <td>1.009791</td>\n",
       "      <td>0.990304</td>\n",
       "      <td>10.0</td>\n",
       "      <td>2487.11</td>\n",
       "      <td>2470.73</td>\n",
       "      <td>NaN</td>\n",
       "      <td>NaN</td>\n",
       "      <td>NaN</td>\n",
       "      <td>NaN</td>\n",
       "      <td>NaN</td>\n",
       "    </tr>\n",
       "    <tr>\n",
       "      <th>2021-06-14 16:51:00</th>\n",
       "      <td>2476.70</td>\n",
       "      <td>2478.09</td>\n",
       "      <td>2475.72</td>\n",
       "      <td>2476.87</td>\n",
       "      <td>372.65066</td>\n",
       "      <td>2476.81</td>\n",
       "      <td>0.000024</td>\n",
       "      <td>0.001027</td>\n",
       "      <td>0.038958</td>\n",
       "      <td>1.009787</td>\n",
       "      <td>0.990308</td>\n",
       "      <td>10.0</td>\n",
       "      <td>2487.11</td>\n",
       "      <td>2470.73</td>\n",
       "      <td>NaN</td>\n",
       "      <td>NaN</td>\n",
       "      <td>NaN</td>\n",
       "      <td>NaN</td>\n",
       "      <td>NaN</td>\n",
       "    </tr>\n",
       "    <tr>\n",
       "      <th>2021-06-14 16:52:00</th>\n",
       "      <td>2476.92</td>\n",
       "      <td>2476.96</td>\n",
       "      <td>2472.75</td>\n",
       "      <td>2476.13</td>\n",
       "      <td>339.54627</td>\n",
       "      <td>2476.87</td>\n",
       "      <td>-0.000299</td>\n",
       "      <td>0.000854</td>\n",
       "      <td>0.032392</td>\n",
       "      <td>1.008131</td>\n",
       "      <td>0.991935</td>\n",
       "      <td>8.0</td>\n",
       "      <td>2487.11</td>\n",
       "      <td>2470.73</td>\n",
       "      <td>NaN</td>\n",
       "      <td>NaN</td>\n",
       "      <td>NaN</td>\n",
       "      <td>NaN</td>\n",
       "      <td>NaN</td>\n",
       "    </tr>\n",
       "    <tr>\n",
       "      <th>2021-06-14 16:53:00</th>\n",
       "      <td>2476.13</td>\n",
       "      <td>2477.77</td>\n",
       "      <td>2473.70</td>\n",
       "      <td>2477.21</td>\n",
       "      <td>351.33906</td>\n",
       "      <td>2476.13</td>\n",
       "      <td>0.000436</td>\n",
       "      <td>0.000847</td>\n",
       "      <td>0.032123</td>\n",
       "      <td>1.008063</td>\n",
       "      <td>0.992001</td>\n",
       "      <td>8.0</td>\n",
       "      <td>2487.11</td>\n",
       "      <td>2470.73</td>\n",
       "      <td>NaN</td>\n",
       "      <td>NaN</td>\n",
       "      <td>NaN</td>\n",
       "      <td>NaN</td>\n",
       "      <td>NaN</td>\n",
       "    </tr>\n",
       "    <tr>\n",
       "      <th>2021-06-14 16:54:00</th>\n",
       "      <td>2477.21</td>\n",
       "      <td>2477.22</td>\n",
       "      <td>2475.43</td>\n",
       "      <td>2476.08</td>\n",
       "      <td>51.62346</td>\n",
       "      <td>2477.21</td>\n",
       "      <td>-0.000456</td>\n",
       "      <td>0.000847</td>\n",
       "      <td>0.032141</td>\n",
       "      <td>1.008068</td>\n",
       "      <td>0.991997</td>\n",
       "      <td>8.0</td>\n",
       "      <td>2487.11</td>\n",
       "      <td>2470.73</td>\n",
       "      <td>NaN</td>\n",
       "      <td>NaN</td>\n",
       "      <td>NaN</td>\n",
       "      <td>NaN</td>\n",
       "      <td>NaN</td>\n",
       "    </tr>\n",
       "  </tbody>\n",
       "</table>\n",
       "<p>61375 rows × 19 columns</p>\n",
       "</div>"
      ],
      "text/plain": [
       "                        open     high      low    close     volume  pre_close  \\\n",
       "2021-05-03 02:00:00  2933.17  2934.76  2933.16  2934.16  166.72626    2933.16   \n",
       "2021-05-03 02:01:00  2934.16  2934.17  2932.67  2933.50  131.26980    2934.16   \n",
       "2021-05-03 02:02:00  2933.51  2934.70  2932.02  2932.12  201.46676    2933.50   \n",
       "2021-05-03 02:03:00  2932.12  2932.12  2930.06  2931.54  180.87564    2932.12   \n",
       "2021-05-03 02:04:00  2931.54  2937.27  2931.54  2937.14  350.06458    2931.54   \n",
       "...                      ...      ...      ...      ...        ...        ...   \n",
       "2021-06-14 16:50:00  2473.23  2477.47  2473.22  2476.81  545.61010    2473.11   \n",
       "2021-06-14 16:51:00  2476.70  2478.09  2475.72  2476.87  372.65066    2476.81   \n",
       "2021-06-14 16:52:00  2476.92  2476.96  2472.75  2476.13  339.54627    2476.87   \n",
       "2021-06-14 16:53:00  2476.13  2477.77  2473.70  2477.21  351.33906    2476.13   \n",
       "2021-06-14 16:54:00  2477.21  2477.22  2475.43  2476.08   51.62346    2477.21   \n",
       "\n",
       "                     log_return  rolling_sigma  daily_sigma  up_float  \\\n",
       "2021-05-03 02:00:00    0.000341       0.000657     0.024925  1.006251   \n",
       "2021-05-03 02:01:00   -0.000225       0.000653     0.024785  1.006216   \n",
       "2021-05-03 02:02:00   -0.000471       0.000630     0.023907  1.005995   \n",
       "2021-05-03 02:03:00   -0.000198       0.000622     0.023616  1.005921   \n",
       "2021-05-03 02:04:00    0.001908       0.000646     0.024501  1.006144   \n",
       "...                         ...            ...          ...       ...   \n",
       "2021-06-14 16:50:00    0.001495       0.001027     0.038973  1.009791   \n",
       "2021-06-14 16:51:00    0.000024       0.001027     0.038958  1.009787   \n",
       "2021-06-14 16:52:00   -0.000299       0.000854     0.032392  1.008131   \n",
       "2021-06-14 16:53:00    0.000436       0.000847     0.032123  1.008063   \n",
       "2021-06-14 16:54:00   -0.000456       0.000847     0.032141  1.008068   \n",
       "\n",
       "                     down_float  target_range  close_rolling_30_max  \\\n",
       "2021-05-03 02:00:00    0.993788           6.0               2934.73   \n",
       "2021-05-03 02:01:00    0.993823           6.0               2934.73   \n",
       "2021-05-03 02:02:00    0.994041           6.0               2934.73   \n",
       "2021-05-03 02:03:00    0.994113           6.0               2934.73   \n",
       "2021-05-03 02:04:00    0.993893           6.0               2937.14   \n",
       "...                         ...           ...                   ...   \n",
       "2021-06-14 16:50:00    0.990304          10.0               2487.11   \n",
       "2021-06-14 16:51:00    0.990308          10.0               2487.11   \n",
       "2021-06-14 16:52:00    0.991935           8.0               2487.11   \n",
       "2021-06-14 16:53:00    0.992001           8.0               2487.11   \n",
       "2021-06-14 16:54:00    0.991997           8.0               2487.11   \n",
       "\n",
       "                     close_rolling_30_min  adjust_signal  actural_range  \\\n",
       "2021-05-03 02:00:00               2928.06            1.0            6.0   \n",
       "2021-05-03 02:01:00               2928.06            NaN            NaN   \n",
       "2021-05-03 02:02:00               2928.30            NaN            NaN   \n",
       "2021-05-03 02:03:00               2928.62            NaN            NaN   \n",
       "2021-05-03 02:04:00               2928.62            NaN            NaN   \n",
       "...                                   ...            ...            ...   \n",
       "2021-06-14 16:50:00               2470.73            NaN            NaN   \n",
       "2021-06-14 16:51:00               2470.73            NaN            NaN   \n",
       "2021-06-14 16:52:00               2470.73            NaN            NaN   \n",
       "2021-06-14 16:53:00               2470.73            NaN            NaN   \n",
       "2021-06-14 16:54:00               2470.73            NaN            NaN   \n",
       "\n",
       "                     benchmark_price            a            b  \n",
       "2021-05-03 02:00:00          2933.16  2897.449637  2969.203589  \n",
       "2021-05-03 02:01:00              NaN          NaN          NaN  \n",
       "2021-05-03 02:02:00              NaN          NaN          NaN  \n",
       "2021-05-03 02:03:00              NaN          NaN          NaN  \n",
       "2021-05-03 02:04:00              NaN          NaN          NaN  \n",
       "...                              ...          ...          ...  \n",
       "2021-06-14 16:50:00              NaN          NaN          NaN  \n",
       "2021-06-14 16:51:00              NaN          NaN          NaN  \n",
       "2021-06-14 16:52:00              NaN          NaN          NaN  \n",
       "2021-06-14 16:53:00              NaN          NaN          NaN  \n",
       "2021-06-14 16:54:00              NaN          NaN          NaN  \n",
       "\n",
       "[61375 rows x 19 columns]"
      ]
     },
     "execution_count": 27,
     "metadata": {},
     "output_type": "execute_result"
    }
   ],
   "source": [
    "df_1"
   ]
  },
  {
   "cell_type": "code",
   "execution_count": 28,
   "metadata": {},
   "outputs": [],
   "source": [
    "for i in range(1,data_len):\n",
    "    if (df_1['close_rolling_30_max'][i]<a) | (df_1['close_rolling_30_min'][i]>b):\n",
    "        df_1['adjust_signal'][i] = 1\n",
    "        df_1['benchmark_price'][i] = df_1['pre_close'][i]\n",
    "        \n",
    "        df_1['a'][i] = df_1['benchmark_price'][i]*df_1['down_float'][i]*(1-arb_fri)\n",
    "        df_1['b'][i] = df_1['benchmark_price'][i]*df_1['up_float'][i]*(1+arb_fri)\n",
    "        a = df_1['benchmark_price'][i]*df_1['down_float'][i]*(1-arb_fri)\n",
    "        b = df_1['benchmark_price'][i]*df_1['up_float'][i]*(1+arb_fri)\n",
    "        \n",
    "        df_1['actural_range'][i] = np.round(np.log(df_1['up_float'][i])/np.log(1+bar_len),0)\n",
    "        start_index = df_1.index[i]\n",
    "        start_index_list.append(start_index)\n",
    "        #break\n",
    "    else:\n",
    "        df_1['adjust_signal'][i] = 0\n",
    "        df_1['benchmark_price'][i] = df_1['benchmark_price'][start_index]\n",
    "        df_1['a'][i] =  df_1['a'][start_index]\n",
    "        df_1['b'][i] =  df_1['b'][start_index]\n",
    "        df_1['actural_range'][i] =  df_1['target_range'][start_index]\n",
    "        continue"
   ]
  },
  {
   "cell_type": "code",
   "execution_count": 29,
   "metadata": {},
   "outputs": [
    {
     "data": {
      "text/plain": [
       "[Timestamp('2021-05-03 05:50:00'),\n",
       " Timestamp('2021-05-03 10:44:00'),\n",
       " Timestamp('2021-05-03 13:45:00'),\n",
       " Timestamp('2021-05-03 16:41:00'),\n",
       " Timestamp('2021-05-03 20:52:00'),\n",
       " Timestamp('2021-05-04 01:03:00'),\n",
       " Timestamp('2021-05-04 06:23:00'),\n",
       " Timestamp('2021-05-04 10:22:00'),\n",
       " Timestamp('2021-05-04 19:00:00'),\n",
       " Timestamp('2021-05-04 23:34:00'),\n",
       " Timestamp('2021-05-06 04:04:00'),\n",
       " Timestamp('2021-05-06 23:42:00'),\n",
       " Timestamp('2021-05-07 03:05:00'),\n",
       " Timestamp('2021-05-08 21:39:00'),\n",
       " Timestamp('2021-05-09 00:35:00'),\n",
       " Timestamp('2021-05-09 05:24:00'),\n",
       " Timestamp('2021-05-09 14:55:00'),\n",
       " Timestamp('2021-05-09 18:37:00'),\n",
       " Timestamp('2021-05-09 20:49:00'),\n",
       " Timestamp('2021-05-10 00:27:00'),\n",
       " Timestamp('2021-05-10 11:41:00'),\n",
       " Timestamp('2021-05-10 16:59:00'),\n",
       " Timestamp('2021-05-10 19:15:00'),\n",
       " Timestamp('2021-05-11 00:06:00'),\n",
       " Timestamp('2021-05-11 04:17:00'),\n",
       " Timestamp('2021-05-11 18:32:00'),\n",
       " Timestamp('2021-05-11 20:23:00'),\n",
       " Timestamp('2021-05-12 02:39:00'),\n",
       " Timestamp('2021-05-12 08:47:00'),\n",
       " Timestamp('2021-05-12 11:03:00'),\n",
       " Timestamp('2021-05-13 00:42:00'),\n",
       " Timestamp('2021-05-13 08:21:00'),\n",
       " Timestamp('2021-05-17 00:58:00'),\n",
       " Timestamp('2021-05-17 04:07:00'),\n",
       " Timestamp('2021-05-17 12:17:00'),\n",
       " Timestamp('2021-05-17 15:35:00'),\n",
       " Timestamp('2021-05-17 23:57:00'),\n",
       " Timestamp('2021-05-18 04:44:00'),\n",
       " Timestamp('2021-05-18 06:04:00'),\n",
       " Timestamp('2021-05-18 12:31:00'),\n",
       " Timestamp('2021-05-18 14:32:00'),\n",
       " Timestamp('2021-05-18 21:15:00'),\n",
       " Timestamp('2021-05-19 09:46:00'),\n",
       " Timestamp('2021-05-19 12:34:00'),\n",
       " Timestamp('2021-05-19 19:30:00'),\n",
       " Timestamp('2021-05-19 21:16:00'),\n",
       " Timestamp('2021-05-19 23:58:00'),\n",
       " Timestamp('2021-05-20 08:48:00'),\n",
       " Timestamp('2021-05-20 11:23:00'),\n",
       " Timestamp('2021-05-20 14:01:00'),\n",
       " Timestamp('2021-05-20 20:46:00'),\n",
       " Timestamp('2021-05-21 01:00:00'),\n",
       " Timestamp('2021-05-21 23:52:00'),\n",
       " Timestamp('2021-05-22 13:34:00'),\n",
       " Timestamp('2021-05-22 16:36:00'),\n",
       " Timestamp('2021-05-22 19:13:00'),\n",
       " Timestamp('2021-05-22 23:38:00'),\n",
       " Timestamp('2021-05-23 14:47:00'),\n",
       " Timestamp('2021-05-23 16:34:00'),\n",
       " Timestamp('2021-05-23 21:06:00'),\n",
       " Timestamp('2021-05-24 04:59:00'),\n",
       " Timestamp('2021-05-24 11:27:00'),\n",
       " Timestamp('2021-05-24 16:05:00'),\n",
       " Timestamp('2021-05-24 20:42:00'),\n",
       " Timestamp('2021-05-25 02:52:00'),\n",
       " Timestamp('2021-05-25 08:32:00'),\n",
       " Timestamp('2021-05-25 11:15:00'),\n",
       " Timestamp('2021-05-25 18:55:00'),\n",
       " Timestamp('2021-05-25 22:38:00'),\n",
       " Timestamp('2021-05-26 10:06:00'),\n",
       " Timestamp('2021-05-26 14:49:00'),\n",
       " Timestamp('2021-05-26 21:37:00'),\n",
       " Timestamp('2021-05-27 07:57:00'),\n",
       " Timestamp('2021-05-27 09:33:00'),\n",
       " Timestamp('2021-05-27 21:49:00'),\n",
       " Timestamp('2021-05-28 01:06:00'),\n",
       " Timestamp('2021-05-28 09:28:00'),\n",
       " Timestamp('2021-05-28 14:10:00'),\n",
       " Timestamp('2021-05-28 17:29:00'),\n",
       " Timestamp('2021-05-28 20:51:00'),\n",
       " Timestamp('2021-05-29 05:16:00'),\n",
       " Timestamp('2021-05-29 09:22:00'),\n",
       " Timestamp('2021-05-29 17:32:00'),\n",
       " Timestamp('2021-05-29 23:40:00'),\n",
       " Timestamp('2021-05-30 04:42:00'),\n",
       " Timestamp('2021-05-30 13:31:00'),\n",
       " Timestamp('2021-05-30 15:16:00'),\n",
       " Timestamp('2021-05-31 09:34:00'),\n",
       " Timestamp('2021-05-31 15:22:00'),\n",
       " Timestamp('2021-05-31 17:46:00'),\n",
       " Timestamp('2021-05-31 23:46:00'),\n",
       " Timestamp('2021-06-01 08:30:00'),\n",
       " Timestamp('2021-06-01 10:34:00'),\n",
       " Timestamp('2021-06-01 21:20:00'),\n",
       " Timestamp('2021-06-01 21:57:00'),\n",
       " Timestamp('2021-06-02 21:55:00'),\n",
       " Timestamp('2021-06-03 14:05:00'),\n",
       " Timestamp('2021-06-03 18:11:00'),\n",
       " Timestamp('2021-06-03 20:10:00'),\n",
       " Timestamp('2021-06-04 07:46:00'),\n",
       " Timestamp('2021-06-04 08:53:00'),\n",
       " Timestamp('2021-06-04 09:44:00'),\n",
       " Timestamp('2021-06-04 15:09:00'),\n",
       " Timestamp('2021-06-05 01:53:00'),\n",
       " Timestamp('2021-06-05 09:01:00'),\n",
       " Timestamp('2021-06-05 19:43:00'),\n",
       " Timestamp('2021-06-07 10:03:00'),\n",
       " Timestamp('2021-06-08 02:34:00'),\n",
       " Timestamp('2021-06-08 05:34:00'),\n",
       " Timestamp('2021-06-08 11:14:00'),\n",
       " Timestamp('2021-06-08 16:33:00'),\n",
       " Timestamp('2021-06-08 22:04:00'),\n",
       " Timestamp('2021-06-08 23:07:00'),\n",
       " Timestamp('2021-06-09 02:36:00'),\n",
       " Timestamp('2021-06-09 04:53:00'),\n",
       " Timestamp('2021-06-09 08:46:00'),\n",
       " Timestamp('2021-06-09 20:22:00'),\n",
       " Timestamp('2021-06-11 00:33:00'),\n",
       " Timestamp('2021-06-11 09:30:00'),\n",
       " Timestamp('2021-06-11 12:59:00'),\n",
       " Timestamp('2021-06-11 23:46:00'),\n",
       " Timestamp('2021-06-12 05:39:00'),\n",
       " Timestamp('2021-06-12 10:35:00'),\n",
       " Timestamp('2021-06-12 18:54:00'),\n",
       " Timestamp('2021-06-13 13:35:00'),\n",
       " Timestamp('2021-06-14 00:45:00'),\n",
       " Timestamp('2021-06-14 04:33:00')]"
      ]
     },
     "execution_count": 29,
     "metadata": {},
     "output_type": "execute_result"
    }
   ],
   "source": [
    "start_index_list"
   ]
  },
  {
   "cell_type": "code",
   "execution_count": 30,
   "metadata": {},
   "outputs": [
    {
     "data": {
      "text/plain": [
       "128.0"
      ]
     },
     "execution_count": 30,
     "metadata": {},
     "output_type": "execute_result"
    }
   ],
   "source": [
    "df_1['adjust_signal'].sum()"
   ]
  },
  {
   "cell_type": "code",
   "execution_count": 31,
   "metadata": {},
   "outputs": [],
   "source": [
    "#df_1.to_excel('test3.xlsx')"
   ]
  },
  {
   "cell_type": "code",
   "execution_count": null,
   "metadata": {},
   "outputs": [],
   "source": []
  },
  {
   "cell_type": "code",
   "execution_count": null,
   "metadata": {},
   "outputs": [],
   "source": []
  }
 ],
 "metadata": {
  "kernelspec": {
   "display_name": "Python 3",
   "language": "python",
   "name": "python3"
  },
  "language_info": {
   "codemirror_mode": {
    "name": "ipython",
    "version": 3
   },
   "file_extension": ".py",
   "mimetype": "text/x-python",
   "name": "python",
   "nbconvert_exporter": "python",
   "pygments_lexer": "ipython3",
   "version": "3.7.10"
  },
  "toc": {
   "base_numbering": 1,
   "nav_menu": {},
   "number_sections": true,
   "sideBar": true,
   "skip_h1_title": false,
   "title_cell": "Table of Contents",
   "title_sidebar": "Contents",
   "toc_cell": false,
   "toc_position": {},
   "toc_section_display": true,
   "toc_window_display": false
  },
  "varInspector": {
   "cols": {
    "lenName": 16,
    "lenType": 16,
    "lenVar": 40
   },
   "kernels_config": {
    "python": {
     "delete_cmd_postfix": "",
     "delete_cmd_prefix": "del ",
     "library": "var_list.py",
     "varRefreshCmd": "print(var_dic_list())"
    },
    "r": {
     "delete_cmd_postfix": ") ",
     "delete_cmd_prefix": "rm(",
     "library": "var_list.r",
     "varRefreshCmd": "cat(var_dic_list()) "
    }
   },
   "types_to_exclude": [
    "module",
    "function",
    "builtin_function_or_method",
    "instance",
    "_Feature"
   ],
   "window_display": false
  }
 },
 "nbformat": 4,
 "nbformat_minor": 2
}
